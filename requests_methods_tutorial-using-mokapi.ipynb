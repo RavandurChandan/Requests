{
 "cells": [
  {
   "cell_type": "code",
   "execution_count": 36,
   "id": "f8ed6c5a-239b-407e-83f5-624cf5166eeb",
   "metadata": {},
   "outputs": [
    {
     "name": "stdout",
     "output_type": "stream",
     "text": [
      "GET: [{'title': 'title 2', 'author': 'author 2', 'isbn': 'isbn 2', 'publishedYear': 12, 'isAvailable': False, 'id': '2'}, {'title': 'title 3', 'author': 'author 3', 'isbn': 'isbn 3', 'publishedYear': 67, 'isAvailable': False, 'id': '3'}, {'title': 'title 4', 'author': 'author 4', 'isbn': 'isbn 4', 'publishedYear': 51, 'isAvailable': False, 'id': '4'}, {'title': 'title 5', 'author': 'author 5', 'isbn': 'isbn 5', 'publishedYear': 33, 'isAvailable': False, 'id': '5'}, {'title': 'title 6', 'author': 'author 6', 'isbn': 'isbn 6', 'publishedYear': 88, 'isAvailable': False, 'id': '6'}, {'title': 'title 7', 'author': 'author 7', 'isbn': 'isbn 7', 'publishedYear': 9, 'isAvailable': False, 'id': '7'}, {'title': 'title 8', 'author': 'author 8', 'isbn': 'isbn 8', 'publishedYear': 52, 'isAvailable': False, 'id': '8'}, {'title': 'title 9', 'author': 'author 9', 'isbn': 'isbn 9', 'publishedYear': 21, 'isAvailable': False, 'id': '9'}, {'title': 'title 10', 'author': 'author 10', 'isbn': 'isbn 10', 'publishedYear': 60, 'isAvailable': False, 'id': '10'}, {'title': 'title 11', 'author': 'author 11', 'isbn': 'isbn 11', 'publishedYear': 84, 'isAvailable': False, 'id': '11'}, {'title': 'title 12', 'author': 'author 12', 'isbn': 'isbn 12', 'publishedYear': 30, 'isAvailable': False, 'id': '12'}, {'title': 'title 13', 'author': 'author 13', 'isbn': 'isbn 13', 'publishedYear': 43, 'isAvailable': False, 'id': '13'}, {'title': 'title 14', 'author': 'author 14', 'isbn': 'isbn 14', 'publishedYear': 18, 'isAvailable': False, 'id': '14'}, {'title': 'title 15', 'author': 'author 15', 'isbn': 'isbn 15', 'publishedYear': 2, 'isAvailable': False, 'id': '15'}, {'title': 'title 16', 'author': 'author 16', 'isbn': 'isbn 16', 'publishedYear': 18, 'isAvailable': False, 'id': '16'}, {'title': 'title 17', 'author': 'author 17', 'isbn': 'isbn 17', 'publishedYear': 2, 'isAvailable': False, 'id': '17'}, {'title': 'title 18', 'author': 'author 18', 'isbn': 'isbn 18', 'publishedYear': 17, 'isAvailable': False, 'id': '18'}, {'title': 'title 19', 'author': 'author 19', 'isbn': 'isbn 19', 'publishedYear': 18, 'isAvailable': False, 'id': '19'}, {'title': 'title 20', 'author': 'author 20', 'isbn': 'isbn 20', 'publishedYear': 30, 'isAvailable': False, 'id': '20'}, {'title': 'Python For Beginners -- updated', 'author': 'Chandan Ravandur', 'isbn': '1234567890', 'publishedYear': 2024, 'isAvailable': False, 'id': '21'}]\n"
     ]
    }
   ],
   "source": [
    "import requests\n",
    "\n",
    "\n",
    "# GET Request – Retrieve All Books\n",
    "# The GET request retrieves all records of books in your resource.\n",
    "response = requests.get(\"https://67336ac32a1b1a4ae11378af.mockapi.io/books\")\n",
    "print(\"GET:\", response.json())\n"
   ]
  },
  {
   "cell_type": "code",
   "execution_count": 23,
   "id": "c18a64a1-4722-4f3e-9d24-f4e45e69955f",
   "metadata": {},
   "outputs": [],
   "source": [
    "# POST Request – Add a New Book\n",
    "# The POST request allows you to add a new book record."
   ]
  },
  {
   "cell_type": "code",
   "execution_count": 38,
   "id": "5c8222ba-3ef1-4aec-b0d4-9d6d234f1eb4",
   "metadata": {},
   "outputs": [
    {
     "name": "stdout",
     "output_type": "stream",
     "text": [
      "POST: {'title': 'Python For Bigners', 'author': 'Chandan Ravandur', 'isbn': '1234567890', 'publishedYear': 57, 'isAvailable': False, 'id': '22'}\n"
     ]
    }
   ],
   "source": [
    "import requests\n",
    "\n",
    "new_book = {\n",
    "    \"title\": \"Python For Bigners\",\n",
    "    \"author\": \"Chandan Ravandur\",\n",
    "    \"isbn\": \"1234567890\"\n",
    "}\n",
    "response = requests.post(\"https://67336ac32a1b1a4ae11378af.mockapi.io/books\", json=new_book)\n",
    "print(\"POST:\", response.json())"
   ]
  },
  {
   "cell_type": "code",
   "execution_count": null,
   "id": "133a711a-e09d-4438-99ab-f65a4972800c",
   "metadata": {},
   "outputs": [],
   "source": [
    "# PUT Request – Update an Existing Book\n",
    "# The PUT request updates a book with a specific id.\n",
    "# Replace {id} with the actual ID of the book you want to update."
   ]
  },
  {
   "cell_type": "code",
   "execution_count": 40,
   "id": "aad3a253-e7e9-4053-a674-3b0fa30fb60f",
   "metadata": {},
   "outputs": [
    {
     "name": "stdout",
     "output_type": "stream",
     "text": [
      "PUT: {'title': 'Python For Beginners -- updated', 'author': 'Chandan Ravandur', 'isbn': '1234567890', 'publishedYear': 2024, 'isAvailable': False, 'id': '21'}\n"
     ]
    }
   ],
   "source": [
    "import requests\n",
    "\n",
    "updated_book = {\n",
    "   \"title\": \"Python For Beginners -- updated\",\n",
    "   \"author\": \"Chandan Ravandur\",\n",
    "   \"isbn\": \"1234567890\",\n",
    "   \"publishedYear\": 2024\n",
    "}\n",
    "\n",
    "# Notice the corrected URL format without curly braces around 21\n",
    "response = requests.put(\"https://67336ac32a1b1a4ae11378af.mockapi.io/books/21\", json=updated_book)\n",
    "print(\"PUT:\", response.json())\n",
    "\n"
   ]
  },
  {
   "cell_type": "code",
   "execution_count": null,
   "id": "5b5442e0-8354-48a0-a884-314d4fc260af",
   "metadata": {},
   "outputs": [],
   "source": [
    "# DELETE Request – Delete a Book\n",
    "# The DELETE request deletes a book with a specific id. Replace {id} with the actual ID of the book you want to delete."
   ]
  },
  {
   "cell_type": "code",
   "execution_count": 44,
   "id": "00cd8b56-c502-423c-812c-d515e45e1823",
   "metadata": {},
   "outputs": [
    {
     "name": "stdout",
     "output_type": "stream",
     "text": [
      "DELETE: 200\n"
     ]
    }
   ],
   "source": [
    "import requests\n",
    "\n",
    "response = requests.delete(\"https://67336ac32a1b1a4ae11378af.mockapi.io/books/2\")\n",
    "print(\"DELETE:\", response.status_code)\n"
   ]
  },
  {
   "cell_type": "code",
   "execution_count": null,
   "id": "f87e2d6d-c272-4f39-bde5-bdc13d5424ad",
   "metadata": {},
   "outputs": [],
   "source": [
    "# PATCH Request – Partially Update a Book\n",
    "# The PATCH request allows you to partially update a book record. Replace {id} with the actual ID of the book you want to update."
   ]
  },
  {
   "cell_type": "code",
   "execution_count": 46,
   "id": "763e0a30-8cf8-40eb-9fb6-219f49765f66",
   "metadata": {},
   "outputs": [
    {
     "name": "stdout",
     "output_type": "stream",
     "text": [
      "PATCH: {'title': 'python For Beginners  - Partially Updated', 'author': 'Chandan Ravandur', 'isbn': '1234567890', 'publishedYear': 2024, 'isAvailable': False, 'id': '21'}\n"
     ]
    }
   ],
   "source": [
    "import requests\n",
    "\n",
    "partial_update = {\n",
    "    \"title\": \"python For Beginners  - Partially Updated\"\n",
    "}\n",
    "response = requests.patch(\"https://67336ac32a1b1a4ae11378af.mockapi.io/books/21\", json=partial_update)\n",
    "print(\"PATCH:\", response.json())\n"
   ]
  },
  {
   "cell_type": "code",
   "execution_count": null,
   "id": "957e6941-b866-4ad7-8097-10da3715cb16",
   "metadata": {},
   "outputs": [],
   "source": [
    "# The HTTP OPTIONS method is used to retrieve information about the communication options available \n",
    "# for a specific URL or server,\n",
    "# such as which HTTP methods are allowed for that resourc\n",
    "# This is commonly used to check CORS (Cross-Origin Resource Sharing) permissions on APIs."
   ]
  },
  {
   "cell_type": "code",
   "execution_count": 48,
   "id": "777ecb07-d9a4-4253-ab86-acf1c49bf5c2",
   "metadata": {},
   "outputs": [
    {
     "name": "stdout",
     "output_type": "stream",
     "text": [
      "Status Code: 204\n",
      "Allowed Methods: None\n",
      "Response Headers: {'Server': 'Cowboy', 'Content-Length': '0', 'Report-To': '{\"group\":\"heroku-nel\",\"max_age\":3600,\"endpoints\":[{\"url\":\"https://nel.heroku.com/reports?ts=1731424924&sid=1b10b0ff-8a76-4548-befa-353fc6c6c045&s=%2FJnY1yJQ4vZ6zU8c50GRqpKwpKbPc7yEAwMAvav%2FGrk%3D\"}]}', 'Reporting-Endpoints': 'heroku-nel=https://nel.heroku.com/reports?ts=1731424924&sid=1b10b0ff-8a76-4548-befa-353fc6c6c045&s=%2FJnY1yJQ4vZ6zU8c50GRqpKwpKbPc7yEAwMAvav%2FGrk%3D', 'Nel': '{\"report_to\":\"heroku-nel\",\"max_age\":3600,\"success_fraction\":0.005,\"failure_fraction\":0.05,\"response_headers\":[\"Via\"]}', 'Connection': 'keep-alive', 'X-Powered-By': 'Express', 'Access-Control-Allow-Origin': '*', 'Access-Control-Allow-Methods': 'GET,PUT,POST,DELETE,OPTIONS', 'Access-Control-Allow-Headers': 'X-Requested-With,Content-Type,Cache-Control,access_token', 'Date': 'Tue, 12 Nov 2024 15:22:04 GMT', 'Via': '1.1 vegur'}\n"
     ]
    }
   ],
   "source": [
    "import requests\n",
    "\n",
    "# Make an OPTIONS request to get the allowed methods and other metadata\n",
    "response = requests.options(\"https://67336ac32a1b1a4ae11378af.mockapi.io/books\")\n",
    "\n",
    "# Print the status code and headers, which often include the allowed methods\n",
    "print(\"Status Code:\", response.status_code)\n",
    "print(\"Allowed Methods:\", response.headers.get(\"allow\"))  # This header shows allowed methods\n",
    "print(\"Response Headers:\", response.headers)\n"
   ]
  },
  {
   "cell_type": "code",
   "execution_count": null,
   "id": "2a370fbf-8603-4177-9550-eac776619137",
   "metadata": {},
   "outputs": [],
   "source": [
    "# From the response you received, we can see the following:\n",
    "\n",
    "# Status Code: 204: This means the request was successful, but there is no content in the response body. The server doesn't need to return any data after processing the request.\n",
    "# Allowed Methods: None: This header is missing or not set explicitly in the response, but you can look for the Access-Control-Allow-Methods header in the response, which provides the allowed methods.\n",
    "# Response Headers: The critical information regarding the allowed methods is found in the Access-Control-Allow-Methods header:\n",
    "# Allowed Methods: GET, PUT, POST, DELETE, OPTIONS — These are the methods allowed on this endpoint.\n",
    "# Key Points:\n",
    "# The OPTIONS request was successfully processed, and the server returned the CORS headers.\n",
    "# You can use the Access-Control-Allow-Methods header to determine which HTTP methods are permitted on the endpoint (GET, POST, PUT, DELETE, OPTIONS).\n",
    "# Summary\n",
    "# You can safely make requests with any of the allowed HTTP methods (GET, POST, PUT, DELETE) to the endpoint based on the server's response. If you're developing a frontend, the OPTIONS method is primarily used for CORS-related information and permissions."
   ]
  }
 ],
 "metadata": {
  "kernelspec": {
   "display_name": "Python 3 (ipykernel)",
   "language": "python",
   "name": "python3"
  },
  "language_info": {
   "codemirror_mode": {
    "name": "ipython",
    "version": 3
   },
   "file_extension": ".py",
   "mimetype": "text/x-python",
   "name": "python",
   "nbconvert_exporter": "python",
   "pygments_lexer": "ipython3",
   "version": "3.12.7"
  }
 },
 "nbformat": 4,
 "nbformat_minor": 5
}
